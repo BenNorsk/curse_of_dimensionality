{
 "cells": [
  {
   "cell_type": "code",
   "execution_count": 2,
   "metadata": {},
   "outputs": [
    {
     "data": {
      "application/vnd.jupyter.widget-view+json": {
       "model_id": "f8c5819cba3942a293d9b21f5832fed7",
       "version_major": 2,
       "version_minor": 0
      },
      "text/plain": [
       "interactive(children=(FloatSlider(value=0.1, description='a', max=1.0, step=0.01), FloatSlider(value=-0.13, de…"
      ]
     },
     "metadata": {},
     "output_type": "display_data"
    }
   ],
   "source": [
    "import numpy as np\n",
    "import matplotlib.pyplot as plt\n",
    "from ipywidgets import interactive\n",
    "import ipywidgets as widgets\n",
    "# from IPython.display import display\n",
    "\n",
    "def f(t, a, b, c):\n",
    "    return np.sqrt(a) * np.exp(-b * t) * np.sin(c * t) + 0.5 * np.cos(2 * t)\n",
    "\n",
    "def plot_with_parameters(a, b, c):\n",
    "    # Define time range\n",
    "    t = np.linspace(0, 1, 100)\n",
    "\n",
    "    # Calculate f(t) for these parameters\n",
    "    f_values = f(t, a, b, c)\n",
    "\n",
    "    # Plot the function\n",
    "    plt.figure(figsize=(10, 6))\n",
    "    plt.plot(t, f_values, label=r'$f(t; a, b, c)$', color='blue')\n",
    "    plt.xlabel('Time $t$')\n",
    "    plt.ylabel(r'$f(t)$')\n",
    "    plt.title(r'Time Series $f(t; a, b, c)$')\n",
    "    plt.legend()\n",
    "    plt.grid(True)\n",
    "    plt.savefig('time_series.png')\n",
    "\n",
    "\n",
    "# Define parameters\n",
    "a = 0.1\n",
    "b = -0.13\n",
    "c = 9\n",
    "\n",
    "# Create interactive widget\n",
    "interactive_plot = interactive(\n",
    "    plot_with_parameters,\n",
    "    a=widgets.FloatSlider(min=0, max=1, step=0.01, value=0.1),\n",
    "    b=widgets.FloatSlider(min=-0.5, max=0.5, step=0.01, value=-0.13),\n",
    "    c=widgets.FloatSlider(min=5, max=10, step=0.1, value=9)\n",
    ")\n",
    "\n",
    "# Display the interactive plot\n",
    "display(interactive_plot)\n",
    "\n"
   ]
  },
  {
   "cell_type": "code",
   "execution_count": null,
   "metadata": {},
   "outputs": [],
   "source": []
  }
 ],
 "metadata": {
  "kernelspec": {
   "display_name": "interpolation",
   "language": "python",
   "name": "python3"
  },
  "language_info": {
   "codemirror_mode": {
    "name": "ipython",
    "version": 3
   },
   "file_extension": ".py",
   "mimetype": "text/x-python",
   "name": "python",
   "nbconvert_exporter": "python",
   "pygments_lexer": "ipython3",
   "version": "3.12.7"
  }
 },
 "nbformat": 4,
 "nbformat_minor": 2
}
